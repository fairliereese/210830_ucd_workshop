{
 "cells": [
  {
   "cell_type": "code",
   "execution_count": null,
   "id": "polished-contemporary",
   "metadata": {},
   "outputs": [],
   "source": [
    "# data download\n",
    "!wget http://hubble.bio.uci.edu/freese/data.tgz\n",
    "!tar -xf data.tgz"
   ]
  },
  {
   "cell_type": "code",
   "execution_count": 1,
   "id": "processed-planning",
   "metadata": {},
   "outputs": [],
   "source": [
    "import swan_vis as swan"
   ]
  },
  {
   "cell_type": "code",
   "execution_count": 2,
   "id": "ultimate-lancaster",
   "metadata": {},
   "outputs": [],
   "source": [
    "# construct SwanGraph\n",
    "annot_gtf = 'ref/gencode.vM21.annotation.gtf'\n",
    "data_gtf = 'data/all_talon_observedOnly.gtf'\n",
    "ab_file = 'data/all_talon_abundance_filtered.tsv'\n",
    "meta = 'data/metadata.tsv'"
   ]
  },
  {
   "cell_type": "code",
   "execution_count": 3,
   "id": "moral-addiction",
   "metadata": {},
   "outputs": [
    {
     "name": "stdout",
     "output_type": "stream",
     "text": [
      "\n",
      "Adding annotation to the SwanGraph\n",
      "\n",
      "Adding transcriptome to the SwanGraph\n",
      "\n",
      "Adding abundance for datasets PB154, PB155, PB213, PB214 to SwanGraph.\n"
     ]
    },
    {
     "name": "stderr",
     "output_type": "stream",
     "text": [
      "/Users/fairliereese/miniconda3/lib/python3.7/site-packages/anndata/_core/anndata.py:120: ImplicitModificationWarning: Transforming to str index.\n",
      "  warnings.warn(\"Transforming to str index.\", ImplicitModificationWarning)\n"
     ]
    },
    {
     "name": "stdout",
     "output_type": "stream",
     "text": [
      "Saving graph as swan.p\n"
     ]
    }
   ],
   "source": [
    "sg = swan.SwanGraph()\n",
    "sg.add_annotation(annot_gtf)\n",
    "sg.add_transcriptome(data_gtf)\n",
    "sg.add_abundance(ab_file)\n",
    "sg.save_graph('swan')"
   ]
  },
  {
   "cell_type": "code",
   "execution_count": null,
   "id": "bright-immunology",
   "metadata": {},
   "outputs": [],
   "source": []
  }
 ],
 "metadata": {
  "kernelspec": {
   "display_name": "Python 3",
   "language": "python",
   "name": "python3"
  },
  "language_info": {
   "codemirror_mode": {
    "name": "ipython",
    "version": 3
   },
   "file_extension": ".py",
   "mimetype": "text/x-python",
   "name": "python",
   "nbconvert_exporter": "python",
   "pygments_lexer": "ipython3",
   "version": "3.7.4"
  }
 },
 "nbformat": 4,
 "nbformat_minor": 5
}
